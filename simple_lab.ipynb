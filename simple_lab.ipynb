{
 "cells": [
  {
   "cell_type": "code",
   "execution_count": 1,
   "id": "7f229ed9-c37b-4866-9e17-b5ce9bf5d277",
   "metadata": {},
   "outputs": [
    {
     "name": "stdout",
     "output_type": "stream",
     "text": [
      "This is a lab...similar to a notebook, I guess.\n"
     ]
    }
   ],
   "source": [
    "print(\"This is a lab...similar to a notebook, I guess.\")"
   ]
  },
  {
   "cell_type": "code",
   "execution_count": 4,
   "id": "b1ff9ea3-709c-4494-b287-fef973f59d87",
   "metadata": {},
   "outputs": [
    {
     "name": "stdout",
     "output_type": "stream",
     "text": [
      "/Users/erikgoughnour/src/jupyterlab-test/virtualenv/bin/python3.10\n"
     ]
    }
   ],
   "source": [
    "import sys\n",
    "print(sys.executable)"
   ]
  },
  {
   "cell_type": "code",
   "execution_count": 5,
   "id": "d66e80ff-806a-45a8-afc6-93fbd9b6747c",
   "metadata": {},
   "outputs": [],
   "source": [
    "import numpy as np\n",
    "def sum_to_n(n):\n",
    "    return (n * (n-1))/2\n"
   ]
  },
  {
   "cell_type": "code",
   "execution_count": 7,
   "id": "63e916ed-a1ce-4b0c-a65f-718a3e7eed15",
   "metadata": {},
   "outputs": [
    {
     "name": "stdout",
     "output_type": "stream",
     "text": [
      "The legendary sum:4950.0\n",
      "Whoops!\n"
     ]
    }
   ],
   "source": [
    "print(f'The legendary sum: {sum_to_n(100)}')\n",
    "print('Whoops!')"
   ]
  },
  {
   "cell_type": "code",
   "execution_count": 8,
   "id": "50b14a94-af41-49fa-b0f4-2b576e1470bd",
   "metadata": {},
   "outputs": [],
   "source": [
    "def real_sum_to_n(n):\n",
    "    return (n * (n+1))/2\n"
   ]
  },
  {
   "cell_type": "code",
   "execution_count": 11,
   "id": "1f02a2c7-fb0a-430c-8fd5-39cbae0263ba",
   "metadata": {},
   "outputs": [
    {
     "name": "stdout",
     "output_type": "stream",
     "text": [
      "The real deal: 5050\n",
      "Better!\n"
     ]
    }
   ],
   "source": [
    "print(f'The real deal: {int(real_sum_to_n(100))}')\n",
    "print('Better!')"
   ]
  },
  {
   "cell_type": "code",
   "execution_count": null,
   "id": "0d97e484-f5f1-4d2d-b60d-d46437e1bcac",
   "metadata": {},
   "outputs": [],
   "source": []
  }
 ],
 "metadata": {
  "kernelspec": {
   "display_name": "Python 3 (ipykernel)",
   "language": "python",
   "name": "python3"
  },
  "language_info": {
   "codemirror_mode": {
    "name": "ipython",
    "version": 3
   },
   "file_extension": ".py",
   "mimetype": "text/x-python",
   "name": "python",
   "nbconvert_exporter": "python",
   "pygments_lexer": "ipython3",
   "version": "3.10.9"
  },
  "toc-showmarkdowntxt": true
 },
 "nbformat": 4,
 "nbformat_minor": 5
}
