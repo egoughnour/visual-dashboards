{
 "cells": [
  {
   "cell_type": "code",
   "execution_count": null,
   "id": "7f229ed9-c37b-4866-9e17-b5ce9bf5d277",
   "metadata": {},
   "outputs": [],
   "source": [
    "print(\"This is a lab...similar to a notebook, I guess.\")"
   ]
  },
  {
   "cell_type": "code",
   "execution_count": null,
   "id": "d66e80ff-806a-45a8-afc6-93fbd9b6747c",
   "metadata": {},
   "outputs": [],
   "source": [
    "def sum_to_n(n):\n",
    "    return (n * (n-1))/2\n"
   ]
  },
  {
   "cell_type": "code",
   "execution_count": null,
   "id": "63e916ed-a1ce-4b0c-a65f-718a3e7eed15",
   "metadata": {},
   "outputs": [],
   "source": [
    "print(f'The legendary sum: {sum_to_n(100)}')\n",
    "print('Whoops!')"
   ]
  },
  {
   "cell_type": "code",
   "execution_count": null,
   "id": "50b14a94-af41-49fa-b0f4-2b576e1470bd",
   "metadata": {},
   "outputs": [],
   "source": [
    "def real_sum_to_n(n):\n",
    "    return (n * (n+1))/2\n"
   ]
  },
  {
   "cell_type": "code",
   "execution_count": null,
   "id": "1f02a2c7-fb0a-430c-8fd5-39cbae0263ba",
   "metadata": {},
   "outputs": [],
   "source": [
    "print(f'The real deal: {int(real_sum_to_n(100))}')\n",
    "print('Better!')"
   ]
  },
  {
   "cell_type": "markdown",
   "id": "8bfb2e2e-b6cb-409a-ba01-0e354fe3b96b",
   "metadata": {},
   "source": [
    "_Gauss zum Gedächtnis_ includes a reference to what may be \n",
    "the [schoolroom sum](https://en.wikipedia.org/wiki/Wolfgang_Sartorius_von_Waltershausen#Gauss_zum_Ged.C3.A4chtnis) anecdote."
   ]
  },
  {
   "cell_type": "code",
   "execution_count": null,
   "id": "4d9ef2bc-c427-456e-af29-e97422bdf9e5",
   "metadata": {},
   "outputs": [],
   "source": []
  },
  {
   "cell_type": "code",
   "execution_count": null,
   "id": "6b5b3eb4-c89a-45fb-839a-7c9f003a1a81",
   "metadata": {},
   "outputs": [],
   "source": []
  }
 ],
 "metadata": {
  "kernelspec": {
   "display_name": "Python 3 (ipykernel)",
   "language": "python",
   "name": "python3"
  },
  "language_info": {
   "codemirror_mode": {
    "name": "ipython",
    "version": 3
   },
   "file_extension": ".py",
   "mimetype": "text/x-python",
   "name": "python",
   "nbconvert_exporter": "python",
   "pygments_lexer": "ipython3",
   "version": "3.10.9"
  },
  "toc-showcode": false,
  "toc-showmarkdowntxt": true
 },
 "nbformat": 4,
 "nbformat_minor": 5
}
